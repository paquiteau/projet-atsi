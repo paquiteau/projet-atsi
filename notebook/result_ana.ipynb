{
 "cells": [
  {
   "cell_type": "code",
   "execution_count": 1,
   "metadata": {},
   "outputs": [
    {
     "name": "stdout",
     "output_type": "stream",
     "text": [
      "/home/pac/gits/phd/mri-online\n"
     ]
    }
   ],
   "source": [
    "%cd /home/pac/gits/phd/mri-online/"
   ]
  },
  {
   "cell_type": "code",
   "execution_count": 2,
   "metadata": {},
   "outputs": [
    {
     "name": "stderr",
     "output_type": "stream",
     "text": [
      "/home/pac/gits/phd/pysap-mri/mri/operators/fourier/non_cartesian.py:27: UserWarning: pynfft python package has not been found. If needed use the master release.\n",
      "  warnings.warn(\"pynfft python package has not been found. If needed use \"\n",
      "/home/pac/gits/phd/pysap-mri/mri/operators/fourier/non_cartesian.py:42: UserWarning: gpuNUFFT python package has not been found. If needed please check on how to install in README\n",
      "  warnings.warn(\"gpuNUFFT python package has not been found. If needed \"\n"
     ]
    }
   ],
   "source": [
    "import yaml\n",
    "import pprint\n",
    "import matplotlib.pyplot as plt\n",
    "import numpy as np\n",
    "from pprint import pprint\n",
    "import tikzplotlib as tikz\n",
    "from results.base import Experience, loader\n",
    "from results.plot import plot_metrics, make_gif\n",
    "\n",
    "from project_utils import implot, imsave, load_data\n",
    "from online.metrics import psnr_ssos, ssim_ssos, ssos"
   ]
  },
  {
   "cell_type": "code",
   "execution_count": 3,
   "metadata": {},
   "outputs": [],
   "source": [
    "%matplotlib widget\n",
    "plt.rcParams['figure.figsize'] = (12, 6)\n",
    "DATA_DIR = \"data/\"\n",
    "PLOT_DIR = \"plots/\"\n",
    "full_k, real_img, mask_loc, final_mask = load_data(DATA_DIR,1)\n",
    "square_mask= np.zeros(real_img.shape)\n",
    "real_img_size = real_img.shape\n",
    "img_size = [min(real_img.shape)]*2\n",
    "square_mask[real_img_size[0] // 2 - img_size[0] // 2:real_img_size[0] // 2 + img_size[0] // 2,\n",
    "            real_img_size[1] // 2 - img_size[1] // 2:real_img_size[1] // 2 + img_size[1] // 2] = 1"
   ]
  },
  {
   "cell_type": "code",
   "execution_count": 9,
   "metadata": {
    "pycharm": {
     "name": "#%%\n"
    }
   },
   "outputs": [],
   "source": [
    "with open('results/tested_config.yml') as f:\n",
    "    tested_cfg = yaml.load(f, Loader=loader)\n",
    "Experience.save_folder = 'results/simuls/'\n",
    "Experience.objects.flush()\n",
    "for cfg in tested_cfg:\n",
    "    Experience.objects.add(Experience(**cfg))"
   ]
  },
  {
   "cell_type": "markdown",
   "metadata": {},
   "source": [
    "## Regularisation \n",
    "### Forward-Backward"
   ]
  },
  {
   "cell_type": "code",
   "execution_count": 10,
   "metadata": {},
   "outputs": [
    {
     "data": {
      "application/vnd.jupyter.widget-view+json": {
       "model_id": "6cbc936020d844d2b1106771665eb946",
       "version_major": 2,
       "version_minor": 0
      },
      "text/plain": [
       "Canvas(toolbar=Toolbar(toolitems=[('Home', 'Reset original view', 'home', 'home'), ('Back', 'Back to previous …"
      ]
     },
     "metadata": {},
     "output_type": "display_data"
    },
    {
     "ename": "KeyError",
     "evalue": "'pop from an empty set'",
     "output_type": "error",
     "traceback": [
      "\u001b[0;31m---------------------------------------------------------------------------\u001b[0m",
      "\u001b[0;31mKeyError\u001b[0m                                  Traceback (most recent call last)",
      "\u001b[0;32m<ipython-input-10-21f8464885bc>\u001b[0m in \u001b[0;36m<module>\u001b[0;34m\u001b[0m\n\u001b[1;32m      7\u001b[0m \u001b[0mimg\u001b[0m \u001b[0;34m=\u001b[0m \u001b[0moff\u001b[0m\u001b[0;34m.\u001b[0m\u001b[0mxf\u001b[0m\u001b[0;34m[\u001b[0m\u001b[0;34m-\u001b[0m\u001b[0;36m1\u001b[0m\u001b[0;34m]\u001b[0m\u001b[0;34m\u001b[0m\u001b[0;34m\u001b[0m\u001b[0m\n\u001b[1;32m      8\u001b[0m \u001b[0mimplot\u001b[0m\u001b[0;34m(\u001b[0m\u001b[0mimg\u001b[0m\u001b[0;34m,\u001b[0m  \u001b[0mmask\u001b[0m\u001b[0;34m=\u001b[0m\u001b[0msquare_mask\u001b[0m\u001b[0;34m,\u001b[0m \u001b[0mtitle\u001b[0m\u001b[0;34m=\u001b[0m\u001b[0;34mf'psnr={psnr_ssos(img,real_img, mask=square_mask):.4f}dB ssim={ssim_ssos(img,real_img, mask=square_mask):.2f}'\u001b[0m\u001b[0;34m)\u001b[0m\u001b[0;34m;\u001b[0m\u001b[0;34m\u001b[0m\u001b[0;34m\u001b[0m\u001b[0m\n\u001b[0;32m----> 9\u001b[0;31m off = Experience.objects.get(mode='and',\n\u001b[0m\u001b[1;32m     10\u001b[0m                        \u001b[0mproblem__fourier_type\u001b[0m\u001b[0;34m=\u001b[0m\u001b[0;36m0\u001b[0m\u001b[0;34m,\u001b[0m\u001b[0;34m\u001b[0m\u001b[0;34m\u001b[0m\u001b[0m\n\u001b[1;32m     11\u001b[0m                        \u001b[0mproblem__regularisation__class\u001b[0m\u001b[0;34m=\u001b[0m\u001b[0;34m'LASSO'\u001b[0m\u001b[0;34m,\u001b[0m\u001b[0;34m\u001b[0m\u001b[0;34m\u001b[0m\u001b[0m\n",
      "\u001b[0;32m~/gits/phd/mri-online/experiences/experience.py\u001b[0m in \u001b[0;36mget\u001b[0;34m(self, **kwargs)\u001b[0m\n\u001b[1;32m     72\u001b[0m \u001b[0;34m\u001b[0m\u001b[0m\n\u001b[1;32m     73\u001b[0m     \u001b[0;32mdef\u001b[0m \u001b[0mget\u001b[0m\u001b[0;34m(\u001b[0m\u001b[0mself\u001b[0m\u001b[0;34m,\u001b[0m \u001b[0;34m**\u001b[0m\u001b[0mkwargs\u001b[0m\u001b[0;34m)\u001b[0m\u001b[0;34m:\u001b[0m\u001b[0;34m\u001b[0m\u001b[0;34m\u001b[0m\u001b[0m\n\u001b[0;32m---> 74\u001b[0;31m         \u001b[0;32mreturn\u001b[0m \u001b[0mself\u001b[0m\u001b[0;34m.\u001b[0m\u001b[0m_theset\u001b[0m\u001b[0;34m.\u001b[0m\u001b[0mget\u001b[0m\u001b[0;34m(\u001b[0m\u001b[0;34m**\u001b[0m\u001b[0mkwargs\u001b[0m\u001b[0;34m)\u001b[0m\u001b[0;34m\u001b[0m\u001b[0;34m\u001b[0m\u001b[0m\n\u001b[0m\u001b[1;32m     75\u001b[0m \u001b[0;34m\u001b[0m\u001b[0m\n\u001b[1;32m     76\u001b[0m     \u001b[0;32mdef\u001b[0m \u001b[0mfilter_plot\u001b[0m\u001b[0;34m(\u001b[0m\u001b[0mself\u001b[0m\u001b[0;34m,\u001b[0m \u001b[0;34m*\u001b[0m\u001b[0margs\u001b[0m\u001b[0;34m,\u001b[0m \u001b[0;34m**\u001b[0m\u001b[0mkwargs\u001b[0m\u001b[0;34m)\u001b[0m\u001b[0;34m:\u001b[0m\u001b[0;34m\u001b[0m\u001b[0;34m\u001b[0m\u001b[0m\n",
      "\u001b[0;32m~/gits/phd/mri-online/experiences/set.py\u001b[0m in \u001b[0;36mget\u001b[0;34m(self, **kwargs)\u001b[0m\n\u001b[1;32m    125\u001b[0m         \u001b[0;32mif\u001b[0m \u001b[0mlen\u001b[0m\u001b[0;34m(\u001b[0m\u001b[0mqs\u001b[0m\u001b[0;34m)\u001b[0m \u001b[0;34m>\u001b[0m \u001b[0;36m1\u001b[0m\u001b[0;34m:\u001b[0m\u001b[0;34m\u001b[0m\u001b[0;34m\u001b[0m\u001b[0m\n\u001b[1;32m    126\u001b[0m             \u001b[0mprint\u001b[0m\u001b[0;34m(\u001b[0m\u001b[0;34m\"query not specific enought, return first matching element\"\u001b[0m\u001b[0;34m)\u001b[0m\u001b[0;34m\u001b[0m\u001b[0;34m\u001b[0m\u001b[0m\n\u001b[0;32m--> 127\u001b[0;31m         \u001b[0;32mreturn\u001b[0m \u001b[0mqs\u001b[0m\u001b[0;34m.\u001b[0m\u001b[0m_set\u001b[0m\u001b[0;34m.\u001b[0m\u001b[0mpop\u001b[0m\u001b[0;34m(\u001b[0m\u001b[0;34m)\u001b[0m\u001b[0;34m\u001b[0m\u001b[0;34m\u001b[0m\u001b[0m\n\u001b[0m\u001b[1;32m    128\u001b[0m \u001b[0;34m\u001b[0m\u001b[0m\n\u001b[1;32m    129\u001b[0m     \u001b[0;32mdef\u001b[0m \u001b[0mpop\u001b[0m\u001b[0;34m(\u001b[0m\u001b[0mself\u001b[0m\u001b[0;34m)\u001b[0m\u001b[0;34m:\u001b[0m\u001b[0;34m\u001b[0m\u001b[0;34m\u001b[0m\u001b[0m\n",
      "\u001b[0;31mKeyError\u001b[0m: 'pop from an empty set'"
     ]
    }
   ],
   "source": [
    "off = Experience.objects.get(mode='and',\n",
    "                       problem__fourier_type=0,\n",
    "                       problem__regularisation__class='LASSO',\n",
    "                       problem__regularisation__weights=1e-8,\n",
    "                       solver__algo__in=['vanilla'],\n",
    "                       solver__reg_factor=1)\n",
    "img = off.xf[-1] \n",
    "implot(img,  mask=square_mask, title=f'psnr={psnr_ssos(img,real_img, mask=square_mask):.4f}dB ssim={ssim_ssos(img,real_img, mask=square_mask):.2f}');\n",
    "off = Experience.objects.get(mode='and',\n",
    "                       problem__fourier_type=0,\n",
    "                       problem__regularisation__class='LASSO',\n",
    "                       problem__regularisation__weights=1e-8,\n",
    "                       solver__algo__in=['pogm'])\n",
    "img = off.xf[-1] \n",
    "implot(img,  mask=square_mask, title=f'psnr={psnr_ssos(img,real_img, mask=square_mask):.4f}dB ssim={ssim_ssos(img,real_img, mask=square_mask):.2f}');"
   ]
  },
  {
   "cell_type": "code",
   "execution_count": 14,
   "metadata": {
    "pycharm": {
     "is_executing": true,
     "name": "#%%\n"
    },
    "tags": []
   },
   "outputs": [
    {
     "data": {
      "application/vnd.jupyter.widget-view+json": {
       "model_id": "debb33a3e3244167aa103d1280fc0d83",
       "version_major": 2,
       "version_minor": 0
      },
      "text/plain": [
       "Canvas(toolbar=Toolbar(toolitems=[('Home', 'Reset original view', 'home', 'home'), ('Back', 'Back to previous …"
      ]
     },
     "metadata": {},
     "output_type": "display_data"
    },
    {
     "data": {
      "application/vnd.jupyter.widget-view+json": {
       "model_id": "0a9b95f0eeaf42129c802fe3d28e7057",
       "version_major": 2,
       "version_minor": 0
      },
      "text/plain": [
       "Canvas(toolbar=Toolbar(toolitems=[('Home', 'Reset original view', 'home', 'home'), ('Back', 'Back to previous …"
      ]
     },
     "metadata": {},
     "output_type": "display_data"
    },
    {
     "data": {
      "application/vnd.jupyter.widget-view+json": {
       "model_id": "8920c614f8484bf9a4d73cfd751e9c81",
       "version_major": 2,
       "version_minor": 0
      },
      "text/plain": [
       "Canvas(toolbar=Toolbar(toolitems=[('Home', 'Reset original view', 'home', 'home'), ('Back', 'Back to previous …"
      ]
     },
     "metadata": {},
     "output_type": "display_data"
    }
   ],
   "source": [
    "offline = Experience.objects.filter(mode='and',\n",
    "                               problem__fourier_type__in=[0, 1],\n",
    "                               problem__regularisation__class='LASSO',\n",
    "                                problem__regularisation__weights__le=1e-8,\n",
    "                               solver__algo__in=['vanilla'],\n",
    "                               solver__reg_factor=1,\n",
    "                               )\n",
    "offline = offline.union(Experience.objects.filter(mode='and',\n",
    "                               problem__fourier_type__in=[0, 1],\n",
    "                               problem__regularisation__class='IdentityProx',\n",
    "                               solver__algo__in=['vanilla'],\n",
    "                               solver__reg_factor=1,\n",
    "                               ))\n",
    "\n",
    "online2vanilla = Experience.objects.filter(mode='and',\n",
    "                               problem__fourier_type=2,\n",
    "                               problem__regularisation__class='LASSO',\n",
    "                                problem__regularisation__weights__le=1e-8,\n",
    "                               solver__algo='vanilla',\n",
    "                               solver__reg_factor=0.0125\n",
    "                               )\n",
    "online2vanilla = offline.union(online2vanilla)\n",
    "fig = plot_metrics(online2vanilla,('cost_off','cost'),('nb_run','reg_factor'),log=True)\n",
    "fig = plot_metrics(online2vanilla,('psnr',),('nb_run','reg_factor'),log=False)\n",
    "fig = plot_metrics(online2vanilla,('ssim',),('nb_run','reg_factor'),log=False)\n",
    "\n",
    "\n",
    "\n"
   ]
  },
  {
   "cell_type": "markdown",
   "metadata": {},
   "source": [
    "### Use a basic preconditionner"
   ]
  },
  {
   "cell_type": "code",
   "execution_count": null,
   "metadata": {},
   "outputs": [],
   "source": [
    "ds2 = Experience.objects.filter(mode='and',\n",
    "                                problem__fourier_type =2,\n",
    "                                problem__regularisation__class='GroupLASSO',\n",
    "                                problem__regularisation__weights=5e-4,\n",
    "                                solver__nb_run__in=[1,2])\n",
    "ds2 = ds2.filter(mode='loose_and',\n",
    "                                solver__algo__in=['rmsprop','momentum'],\n",
    "                                solver__gamma=1.00,\n",
    "                                solver__eta=1.00,\n",
    "                                solver__beta=1.00\n",
    "                                )\n",
    "ds2 = ds2.union(online2vanilla)\n",
    "fig = plot_metrics(ds2,('psnr','ssim'),('nb_run','beta','gamma',),default_offset=80,log=False)\n",
    "fig = plot_metrics(ds2,('cost_off',),('nb_run','beta','gamma',),default_offset=80,log=True)"
   ]
  },
  {
   "cell_type": "markdown",
   "metadata": {},
   "source": [
    "## No regularisation"
   ]
  },
  {
   "cell_type": "code",
   "execution_count": null,
   "metadata": {
    "pycharm": {
     "is_executing": true,
     "name": "#%%\n"
    },
    "tags": []
   },
   "outputs": [],
   "source": [
    "\n",
    "offline_no_reg = Experience.objects.filter(mode='and',\n",
    "                               problem__fourier_type__in=[0, 1, 2],\n",
    "                               problem__regularisation__class='IdentityProx',\n",
    "                               solver__algo='vanilla',\n",
    "                               solver__reg_factor=1.,\n",
    "                               )\n",
    "ds2 = Experience.objects.filter(mode='loose_and',\n",
    "                                problem__fourier_type=2,\n",
    "                                problem__regularisation__class='IdentityProx',\n",
    "                                solver__algo__in=['rmsprop', 'vanilla','momentum'],\n",
    "                                solver__eta=1.0,\n",
    "                                solver__gamma=1.00,\n",
    "                                solver__reg_factor=1.,\n",
    "                                solver__beta=1.00\n",
    "                                )\n",
    "ds2 = ds2.union(offline_no_reg)\n",
    "fig = plot_metrics(ds2, ('psnr', 'ssim'), ('nb_run','reg_factor'),log=False)\n",
    "fig2 = plot_metrics(ds2, ('cost_off','cost'), ('nb_run', 'reg_factor'),log=True)\n",
    "fig2 = plot_metrics(ds2, ('data_res_on','data_res_off'), ('nb_run','reg_factor' ),log=True)"
   ]
  },
  {
   "cell_type": "code",
   "execution_count": null,
   "metadata": {},
   "outputs": [],
   "source": [
    "# ADAM "
   ]
  },
  {
   "cell_type": "code",
   "execution_count": null,
   "metadata": {},
   "outputs": [],
   "source": [
    "ds2 = Experience.objects.filter(mode='and',\n",
    "                                problem__fourier_type =2,\n",
    "                                problem__regularisation__class='GroupLASSO',\n",
    "                                problem__regularisation__weights=5e-4,)\n",
    "ds2 = ds2.filter(mode='loose_and',\n",
    "                                solver__algo__in=['adam',],\n",
    "                                solver__reg_factor=0.0125,\n",
    "                                solver__eta=1.00,\n",
    "                                solver__beta=0.5,\n",
    "                                solver__gamma=0.5\n",
    "                                )\n",
    "ds2 = ds2.union(offline)\n",
    "fig = plot_metrics(ds2,('psnr','ssim'),('nb_run','fourier_type','reg_factor'),default_offset=0,log=False)"
   ]
  },
  {
   "cell_type": "code",
   "execution_count": null,
   "metadata": {},
   "outputs": [],
   "source": [
    "from array2gif import write_gif\n",
    "import numpy as np\n",
    "from IPython.display import Image\n",
    "\n",
    "\n",
    "def make_gif(exp, **kwargs):\n",
    "    \"\"\"\n",
    "    Create a gif from the estimates\n",
    "    \"\"\"\n",
    "    estimates = abs(np.array(exp.xf))\n",
    "    estimates = np.repeat(estimates[:,np.newaxis,...],3,axis=1)\n",
    "    estimates *= (255.0/estimates.max())\n",
    "    print(estimates.shape)\n",
    "    filename = f\"{hash(exp)}.gif\"\n",
    "    write_gif(estimates, filename, **kwargs)\n",
    "    \n",
    "\n",
    "for exp in online2vanilla:\n",
    "    make_gif(exp,fps=1)\n",
    "    Image(f\"{hash(exp)}.gif\")"
   ]
  },
  {
   "cell_type": "code",
   "execution_count": null,
   "metadata": {},
   "outputs": [],
   "source": []
  }
 ],
 "metadata": {
  "kernelspec": {
   "display_name": "Python 3",
   "language": "python",
   "name": "python3"
  },
  "language_info": {
   "codemirror_mode": {
    "name": "ipython",
    "version": 3
   },
   "file_extension": ".py",
   "mimetype": "text/x-python",
   "name": "python",
   "nbconvert_exporter": "python",
   "pygments_lexer": "ipython3",
   "version": "3.9.5"
  }
 },
 "nbformat": 4,
 "nbformat_minor": 4
}
