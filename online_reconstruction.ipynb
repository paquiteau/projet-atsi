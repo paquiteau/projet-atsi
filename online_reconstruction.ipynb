{
 "cells": [
  {
   "cell_type": "code",
   "execution_count": 1,
   "metadata": {},
   "outputs": [],
   "source": [
    "\"\"\"\n",
    "parallel MRI reconstruction using an online paradigm.\n",
    "\n",
    "requires PySAP and PySAP-MRI, and their dependencies.\n",
    "\n",
    "\"\"\"\n",
    "import os\n",
    "import time\n",
    "import numpy as np\n",
    "import scipy.fftpack as pfft\n",
    "import matplotlib.pyplot as plt\n",
    "from skimage.measure import label\n",
    "from scipy.ndimage.morphology import binary_closing"
   ]
  },
  {
   "cell_type": "code",
   "execution_count": 2,
   "metadata": {},
   "outputs": [
    {
     "name": "stderr",
     "output_type": "stream",
     "text": [
      "WARNING: Using pyFFTW \"monkey patch\" for scipy.fftpack\n"
     ]
    }
   ],
   "source": [
    "from modopt.opt.linear import Identity\n",
    "from modopt.opt.algorithms import Condat\n",
    "from modopt.math.metrics import ssim"
   ]
  },
  {
   "cell_type": "code",
   "execution_count": 3,
   "metadata": {},
   "outputs": [
    {
     "name": "stderr",
     "output_type": "stream",
     "text": [
      "/home/pac/.pyenv/versions/mri/lib/python3.9/site-packages/pysap_mri-0.2.2-py3.9.egg/mri/operators/fourier/cartesian.py:34: UserWarning: pynufft python package has not been found. If needed use the master release. Till then you cannot use NUFFT on GPU\n",
      "/home/pac/.pyenv/versions/mri/lib/python3.9/site-packages/pysap_mri-0.2.2-py3.9.egg/mri/operators/fourier/non_cartesian.py:42: UserWarning: gpuNUFFT python package has not been found. If needed please check on how to install in README\n"
     ]
    }
   ],
   "source": [
    "from mri.operators.fourier.non_cartesian import NUFFT\n",
    "from mri.operators import OWL\n",
    "from parallel_mri_online.gradient import Grad2D_pMRI\n",
    "from parallel_mri_online.linear import Pywavelet2"
   ]
  },
  {
   "cell_type": "code",
   "execution_count": 4,
   "metadata": {},
   "outputs": [
    {
     "name": "stdout",
     "output_type": "stream",
     "text": [
      "(32, 512, 512)\n"
     ]
    }
   ],
   "source": [
    "# Loading input data\n",
    "folder = '/home/pac/gits/phd/online_2D/multi_channel_non_cartesian/2017-09-18_wilson_complete/'\n",
    "data_path = folder + 'meas_MID111_CSGRE_ref_N512_FID24209.npy'\n",
    "folder += 'sparkling_nc34x3072/'\n",
    "kspace_ref = np.load(data_path)\n",
    "Il = pfft.ifftshift(pfft.ifft2(pfft.fftshift(kspace_ref), axes=[1, 2])).astype(\"complex128\")\n",
    "print(Il.shape)\n",
    "I = np.sqrt(np.sum(np.abs(Il) ** 2, axis=0))\n",
    "samples = np.load(\n",
    "    folder + \"GA_GradientFile_Samples_SPARKLING_N512_R3_nc34x3073_Dt10us_densitytrick_BB_upsampled_Smax302.npy\")\n",
    "samples = np.reshape(samples, (34 * 3072, 2))\n",
    "im_mask = np.zeros(I.shape)\n",
    "im_mask[np.abs(I) > 3e-08] = 1"
   ]
  },
  {
   "cell_type": "code",
   "execution_count": 5,
   "metadata": {},
   "outputs": [],
   "source": [
    "def get_largest_cc(segmentation):\n",
    "    labels = label(segmentation, background=0)\n",
    "    bincounts = np.bincount(labels.flat)\n",
    "    idx = np.argsort(bincounts)[::-1]\n",
    "    largestCC = np.copy(labels == idx[1])\n",
    "    return largestCC"
   ]
  },
  {
   "cell_type": "code",
   "execution_count": 6,
   "metadata": {},
   "outputs": [
    {
     "name": "stdout",
     "output_type": "stream",
     "text": [
      "[34]\n"
     ]
    }
   ],
   "source": [
    "im_mask = binary_closing(get_largest_cc(im_mask), np.ones((5, 5)))\n",
    "b_size = 34\n",
    "t_it = 4\n",
    "TR = 0.550\n",
    "batches = np.arange(b_size, 34 + 1, b_size)  # [34]\n",
    "print(batches)\n",
    "if batches.shape[0] > 1:\n",
    "    nb_it_batches = [np.floor(b_size * 1.0 * TR / t_it).astype('int') for _ in\n",
    "                     range(batches.shape[0] - 1)]\n",
    "    nb_it_batches.append(200)\n",
    "else:\n",
    "    nb_it_batches = [200]"
   ]
  },
  {
   "cell_type": "code",
   "execution_count": 7,
   "metadata": {},
   "outputs": [
    {
     "name": "stdout",
     "output_type": "stream",
     "text": [
      "[200]\n"
     ]
    }
   ],
   "source": [
    "print(nb_it_batches)"
   ]
  },
  {
   "cell_type": "code",
   "execution_count": 8,
   "metadata": {},
   "outputs": [],
   "source": [
    "directory = folder + 'online_reconstrcution_batch_size_' + str(b_size)"
   ]
  },
  {
   "cell_type": "code",
   "execution_count": 9,
   "metadata": {},
   "outputs": [],
   "source": [
    "dir_exist = False\n",
    "try:\n",
    "    os.stat(directory)\n",
    "    dir_exist = True\n",
    "except:\n",
    "    dir_exist = False\n",
    "    os.mkdir(directory)\n",
    "    os.mkdir(directory + '/masks_batches/')\n",
    "    os.mkdir(directory + '/images_batches/')\n",
    "    os.mkdir(directory + '/times_batches/')\n",
    "if dir_exist:\n",
    "    try:\n",
    "        os.stat(directory + '/masks_batches/')\n",
    "    except:\n",
    "        os.mkdir(directory + '/masks_batches/')\n",
    "    try:\n",
    "        os.stat(directory + '/images_batches/')\n",
    "    except:\n",
    "        os.mkdir(directory + '/images_batches/')\n",
    "    try:\n",
    "        os.stat(directory + '/times_batches/')\n",
    "    except:\n",
    "        os.mkdir(directory + '/times_batches/')"
   ]
  },
  {
   "cell_type": "code",
   "execution_count": 10,
   "metadata": {},
   "outputs": [],
   "source": [
    "# Generate the subsampled kspace\n",
    "kspace = np.load(folder + 'GA_meas_MID123_CSGRE_N512_sparkling_nc34_OS2_BR1536_FID24221.npy')"
   ]
  },
  {
   "cell_type": "code",
   "execution_count": 11,
   "metadata": {},
   "outputs": [
    {
     "name": "stdout",
     "output_type": "stream",
     "text": [
      "[(46, 46), [(46, 46), (46, 46), (46, 46)], [(77, 77), (77, 77), (77, 77)], [(139, 139), (139, 139), (139, 139)], [(263, 263), (263, 263), (263, 263)]]\n"
     ]
    }
   ],
   "source": [
    "prox_op = Identity()\n",
    "# Get the locations of the kspace samples\n",
    "linear_op = Pywavelet2(\"sym8\", nb_scale=4, multichannel=True)\n",
    "coeffs = linear_op.op(Il)\n",
    "alpha = 1e-05 / 34\n",
    "beta = 1e-12 / 34\n",
    "prox_dual_op = OWL(alpha=alpha,\n",
    "                   beta=beta,\n",
    "                   bands_shape=linear_op.coeffs_shape,\n",
    "                   mode='band_based',\n",
    "                   n_coils=32,\n",
    "                   n_jobs=1)"
   ]
  },
  {
   "cell_type": "code",
   "execution_count": 12,
   "metadata": {},
   "outputs": [
    {
     "name": "stderr",
     "output_type": "stream",
     "text": [
      "WARNING: Attemping to use OpenCL plateform. Make sure to have  all the dependecies installed\n",
      "/home/pac/.pyenv/versions/mri/lib/python3.9/site-packages/pyopencl/__init__.py:266: CompilerWarning: Non-empty compiler output encountered. Set the environment variable PYOPENCL_COMPILER_OUTPUT=1 to see more.\n",
      "  warn(\"Non-empty compiler output encountered. Set the \"\n"
     ]
    }
   ],
   "source": [
    "\n",
    "\n",
    "fourier_op = NUFFT(samples=samples, shape=I.shape, platform='opencl',\n",
    "                   Kd=(1024, 1024), Jd=(5, 5),\n",
    "                   n_coils=32, verbosity=0)\n",
    "# kspace_mask=np.ones((32, 34 * 3072)))"
   ]
  },
  {
   "cell_type": "code",
   "execution_count": null,
   "metadata": {},
   "outputs": [],
   "source": [
    "gradient_op = Grad2D_pMRI(data=np.zeros_like(kspace.reshape((32, 34 * 3072))),\n",
    "                          fourier_op=fourier_op)"
   ]
  },
  {
   "cell_type": "markdown",
   "metadata": {
    "lines_to_next_cell": 2
   },
   "source": [
    "Start the POGM reconstruction\n",
    "max_iter = 200"
   ]
  },
  {
   "cell_type": "code",
   "execution_count": null,
   "metadata": {},
   "outputs": [],
   "source": [
    "# Define the optimizer\n",
    "sigma = 0.5\n",
    "eps = 5e-8\n",
    "norm = 1.0\n",
    "tau = 1.0 / (gradient_op.spec_rad / 2 + sigma * norm ** 2 + eps)\n",
    "opt = Condat(\n",
    "    x=np.zeros((32, *fourier_op.shape), dtype=\"complex128\"),\n",
    "    y=np.zeros_like(coeffs),\n",
    "    grad=gradient_op,\n",
    "    prox=prox_op,\n",
    "    prox_dual=prox_dual_op,\n",
    "    linear=linear_op,\n",
    "    cost=None,\n",
    "    rho=1.0,\n",
    "    sigma=sigma,\n",
    "    tau=tau,\n",
    "    rho_update=None,\n",
    "    sigma_update=None,\n",
    "    tau_update=None,\n",
    "    auto_iterate=False)\n",
    "# Setting tome vector\n",
    "time_batches = np.asarray([TR * b_size])"
   ]
  },
  {
   "cell_type": "code",
   "execution_count": null,
   "metadata": {},
   "outputs": [],
   "source": [
    "# Setting SSIM vector\n",
    "final_ssim = np.asarray([0])"
   ]
  },
  {
   "cell_type": "code",
   "execution_count": null,
   "metadata": {},
   "outputs": [],
   "source": [
    "# Setting cost vector\n",
    "final_cost = np.asarray([np.sum(np.abs(kspace.flatten()) ** 2)])"
   ]
  },
  {
   "cell_type": "code",
   "execution_count": null,
   "metadata": {},
   "outputs": [],
   "source": [
    "for idx, batch in enumerate(batches):\n",
    "    obs_data = np.copy(opt._grad.obs_data)\n",
    "    obs_data[:, :batch * 3072] = np.reshape(kspace[:, :batch, :], (32, batch * 3072))\n",
    "    opt._grad = Grad2D_pMRI(data=obs_data,\n",
    "                            fourier_op=fourier_op,\n",
    "                            linear_op=opt._grad.spec_rad)\n",
    "    opt._grad.fourier_op.kspace_mask[...] = 0\n",
    "    opt._grad.fourier_op.kspace_mask[:, :batch * 3072] = 1\n",
    "    cost_func_batch = []\n",
    "    ssim_batches = []\n",
    "    opt._prox_dual = OWL(alpha=alpha * batch,\n",
    "                         beta=beta * batch,\n",
    "                         bands_shape=linear_op.coeffs_shape,\n",
    "                         mode='band_based',\n",
    "                         n_coils=32,\n",
    "                         n_jobs=-1)\n",
    "    print(opt._prox_dual.weights[0])\n",
    "    time_it = []\n",
    "    for _ in range(nb_it_batches[idx]):\n",
    "        print(_)\n",
    "        start = time.time()\n",
    "        opt._update()\n",
    "        stop = time.time()\n",
    "        time_it.append(stop - start)\n",
    "        cost_func_batch.append(np.sum(np.abs(opt._grad.op(opt._x_new).flatten() -\n",
    "                                             kspace.flatten()) ** 2) +\n",
    "                               opt._prox_dual.cost(opt._linear.op(opt._x_new)))\n",
    "        ssim_batches.append(ssim(np.sqrt(np.sum(np.abs(opt._x_new) ** 2,\n",
    "                                                axis=0)), I, im_mask))\n",
    "    time_batches = np.concatenate((time_batches, np.asarray(time_it)))\n",
    "    np.save(directory + '/times_batches/time_batch_nb_{0:02d}.npy'.format(idx), time_it)\n",
    "\n",
    "    np.save(directory + '/images_batches/image_batch_nb_{0:02d}.npy'.format(idx), opt._x_new)\n",
    "    imsave_path = directory + '/images_batches/I_batch_{0:02d}.png'.format(idx)\n",
    "    plt.imsave(fname=imsave_path,\n",
    "               arr=np.sqrt(np.sum(np.abs(opt._x_new) ** 2, axis=0)), cmap='gray')\n",
    "\n",
    "    # Updating cost function\n",
    "    final_cost = np.concatenate((final_cost, np.asarray(cost_func_batch)))\n",
    "    final_ssim = np.concatenate((final_ssim, np.asarray(ssim_batches)))"
   ]
  },
  {
   "cell_type": "code",
   "execution_count": null,
   "metadata": {},
   "outputs": [],
   "source": [
    "np.save(directory + '/resume_time.npy', time_batches)\n",
    "np.save(directory + '/resume_cost.npy', final_cost)\n",
    "np.save(directory + '/resume_ssim.npy', final_ssim)\n",
    "plt.figure()\n",
    "plt.plot(final_cost)\n",
    "plt.figure()\n",
    "plt.plot(final_ssim)\n",
    "plt.figure()\n",
    "plt.imshow(np.sqrt(np.sum(np.abs(opt._x_new) ** 2, axis=0)))\n",
    "plt.show()"
   ]
  }
 ],
 "metadata": {
  "jupytext": {
   "cell_metadata_filter": "-all",
   "executable": "/usr/bin/env python3",
   "main_language": "python",
   "notebook_metadata_filter": "-all"
  },
  "kernelspec": {
   "display_name": "mri",
   "language": "python",
   "name": "mri"
  },
  "language_info": {
   "codemirror_mode": {
    "name": "ipython",
    "version": 3
   },
   "file_extension": ".py",
   "mimetype": "text/x-python",
   "name": "python",
   "nbconvert_exporter": "python",
   "pygments_lexer": "ipython3",
   "version": "3.9.2"
  }
 },
 "nbformat": 4,
 "nbformat_minor": 4
}
